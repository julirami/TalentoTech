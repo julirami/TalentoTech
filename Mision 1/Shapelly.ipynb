{
  "nbformat": 4,
  "nbformat_minor": 0,
  "metadata": {
    "colab": {
      "provenance": []
    },
    "kernelspec": {
      "name": "python3",
      "display_name": "Python 3"
    },
    "language_info": {
      "name": "python"
    }
  },
  "cells": [
    {
      "cell_type": "markdown",
      "metadata": {
        "id": "view-in-github"
      },
      "source": [
        "<a href=\"https://colab.research.google.com/github/diegofescg/TalentoTech/blob/main/Shapely.ipynb\" target=\"_parent\"><img src=\"https://colab.research.google.com/assets/colab-badge.svg\" alt=\"Open In Colab\"/></a>"
      ]
    },
    {
      "cell_type": "code",
      "source": [
        "!pip install Shapely"
      ],
      "metadata": {
        "colab": {
          "base_uri": "https://localhost:8080/"
        },
        "id": "OO9R6p58jV-L",
        "outputId": "aba1a3de-5148-4f01-aedd-67a472833284"
      },
      "execution_count": 1,
      "outputs": [
        {
          "output_type": "stream",
          "name": "stdout",
          "text": [
            "Requirement already satisfied: Shapely in /usr/local/lib/python3.10/dist-packages (2.0.4)\n",
            "Requirement already satisfied: numpy<3,>=1.14 in /usr/local/lib/python3.10/dist-packages (from Shapely) (1.25.2)\n"
          ]
        }
      ]
    },
    {
      "cell_type": "code",
      "source": [
        "from shapely.geometry import Point, LineString\n",
        "import matplotlib.pyplot as plt\n",
        "\n",
        "# Crear el punto\n",
        "point = Point(1, 1)\n",
        "\n",
        "# Crear los puntos que definirán la línea\n",
        "point1 = Point(0, 0)\n",
        "point2 = Point(3, 1)\n",
        "point3 = Point(0, 3)\n",
        "\n",
        "# Crear una LineString a partir de los puntos\n",
        "Line1 = LineString([point1, point2, point3])\n",
        "\n",
        "# Crear una LineString directamente con las coordenadas\n",
        "Line2 = LineString([(0,0), (3,1), (0,3)])\n",
        "\n",
        "# Crear la figura de Matplotlib\n",
        "fig, ax = plt.subplots()\n",
        "\n",
        "# Dibujar el punto\n",
        "ax.plot(point.x, point.y, 'ro', label='Punto')\n",
        "\n",
        "# Dibujar la primera línea\n",
        "x, y = Line1.xy\n",
        "ax.plot(x, y, label='Línea 1')\n",
        "\n",
        "# Dibujar la segunda línea\n",
        "x, y = Line2.xy\n",
        "ax.plot(x, y, label='Línea 2')\n",
        "\n",
        "# Configurar el aspecto del gráfico\n",
        "ax.set_aspect('equal')\n",
        "ax.legend()\n",
        "\n",
        "# Mostrar la figura\n",
        "plt.show()"
      ],
      "metadata": {
        "colab": {
          "base_uri": "https://localhost:8080/",
          "height": 430
        },
        "id": "KcNRTepjnybV",
        "outputId": "299a7cbf-b6cc-42fa-e67b-b8cf31229a35"
      },
      "execution_count": 2,
      "outputs": [
        {
          "output_type": "display_data",
          "data": {
            "text/plain": [
              "<Figure size 640x480 with 1 Axes>"
            ],
            "image/png": "[encoded data removed]"
          },
          "metadata": {}
        }
      ]
    },
    {
      "cell_type": "code",
      "execution_count": 3,
      "metadata": {
        "id": "ZzvyoJWBfkey"
      },
      "outputs": [],
      "source": [
        "#Codigo original\n",
        "\n",
        "from shapely.geometry import Point\n",
        "point = Point(1, 1)\n",
        "\n",
        "from shapely.geometry import Point, LineString\n",
        "\n",
        "#Create three points that will define the line\n",
        "\n",
        "point1 = Point(0, 0)\n",
        "point2 = Point(3, 1)\n",
        "point3 = Point(0, 3)\n",
        "\n",
        "#Create a LineString from our point objects\n",
        "Line1 = LineString([point1, point2,  point3])\n",
        "\n",
        "#It is also possible to use coordinate sets to directly create a LineString object\n",
        "Line2 = LineString ([(0,0), (3,1), (0,3)])"
      ]
    },
    {
      "cell_type": "code",
      "source": [
        "#Codigo original\n",
        "\n",
        "from shapely.geometry import Point, Polygon\n",
        "\n",
        "#Create three points that will define the polygon outlines\n",
        "\n",
        "point1 = Point(0, 0)\n",
        "point2 = Point(3, 1)\n",
        "point3 = Point(0, 3)\n",
        "\n",
        "polygon2 = Polygon([[p.x, p.y] for p in [point1, point2, point3]])"
      ],
      "metadata": {
        "id": "In8VCm4Xkq2w"
      },
      "execution_count": 4,
      "outputs": []
    },
    {
      "cell_type": "code",
      "source": [
        "from shapely.geometry import Point, Polygon\n",
        "import matplotlib.pyplot as plt\n",
        "\n",
        "# Crear los puntos que definirán el contorno del polígono\n",
        "point1 = Point(0, 0)\n",
        "point2 = Point(3, 1)\n",
        "point3 = Point(0, 3)\n",
        "\n",
        "# Crear el polígono a partir de los puntos\n",
        "polygon2 = Polygon([[p.x, p.y] for p in [point1, point2, point3]])\n",
        "\n",
        "# Crear la figura de Matplotlib\n",
        "fig, ax = plt.subplots()\n",
        "\n",
        "# Dibujar el polígono\n",
        "x, y = polygon2.exterior.xy\n",
        "ax.fill(x, y, alpha=0.9, fc='r', ec='none')\n",
        "\n",
        "# Configurar el aspecto del gráfico\n",
        "ax.set_aspect('equal')\n",
        "\n",
        "# Mostrar la figura\n",
        "plt.show()\n"
      ],
      "metadata": {
        "colab": {
          "base_uri": "https://localhost:8080/",
          "height": 430
        },
        "id": "S2HdFqr1oDWj",
        "outputId": "8d56e5ae-6b8f-4451-a226-41c19bf41db8"
      },
      "execution_count": 5,
      "outputs": [
        {
          "output_type": "display_data",
          "data": {
            "text/plain": [
              "<Figure size 640x480 with 1 Axes>"
            ],
            "image/png": "[encoded data removed]"
          },
          "metadata": {}
        }
      ]
    },
    {
      "cell_type": "code",
      "source": [
        "#Codigo original\n",
        "\n",
        "from shapely.geometry import Polygon\n",
        "\n",
        "#Firts we define our exterior\n",
        "exterior = Polygon([(0, 0), (3, 1), (0, 3)])\n",
        "\n",
        "#Next we define the shape of the hole\n",
        "\n",
        "hole = [[(0, 1), (3, 1), (0, 1.5)]]\n",
        "\n",
        "#Now a polygon can be constructed with the defined outlines and hole\n",
        "polygon3 = Polygon(shell=exterior, holes=hole)"
      ],
      "metadata": {
        "id": "nFiZ6AT_lZaB"
      },
      "execution_count": 6,
      "outputs": []
    },
    {
      "cell_type": "code",
      "source": [
        "from shapely.geometry import Polygon\n",
        "import matplotlib.pyplot as plt\n",
        "\n",
        "# Definir el contorno exterior del polígono\n",
        "exterior = Polygon([(0, 0), (3, 1), (0, 3)])\n",
        "\n",
        "# Definir la forma del agujero\n",
        "hole = [[(0, 1), (3, 1), (0, 1.5)]]\n",
        "\n",
        "# Construir el polígono con el contorno exterior y el agujero\n",
        "polygon3 = Polygon(shell=exterior.exterior, holes=hole)\n",
        "\n",
        "# Crear la figura de Matplotlib\n",
        "fig, ax = plt.subplots()\n",
        "\n",
        "# Dibujar el contorno exterior del polígono\n",
        "x, y = polygon3.exterior.xy\n",
        "ax.fill(x, y, alpha=0.5, fc='r', ec='none')\n",
        "\n",
        "# Dibujar el agujero\n",
        "for hole in polygon3.interiors:\n",
        "    x, y = hole.xy\n",
        "    ax.fill(x, y, alpha=0.5, fc='w', ec='none')\n",
        "\n",
        "# Configurar el aspecto del gráfico\n",
        "ax.set_aspect('equal')\n",
        "\n",
        "# Mostrar la figura\n",
        "plt.show()\n"
      ],
      "metadata": {
        "colab": {
          "base_uri": "https://localhost:8080/",
          "height": 430
        },
        "id": "vmnWu44LoPPV",
        "outputId": "a6fd7d45-5294-47be-cbc9-aef94b058352"
      },
      "execution_count": 7,
      "outputs": [
        {
          "output_type": "display_data",
          "data": {
            "text/plain": [
              "<Figure size 640x480 with 1 Axes>"
            ],
            "image/png": "[encoded data removed]"
          },
          "metadata": {}
        }
      ]
    }
  ]
}