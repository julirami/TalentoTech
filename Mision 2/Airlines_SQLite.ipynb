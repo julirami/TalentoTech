{
  "metadata": {
    "kernelspec": {
      "language": "python",
      "display_name": "Python 3",
      "name": "python3"
    },
    "language_info": {
      "pygments_lexer": "ipython3",
      "nbconvert_exporter": "python",
      "version": "3.6.4",
      "file_extension": ".py",
      "codemirror_mode": {
        "name": "ipython",
        "version": 3
      },
      "name": "python",
      "mimetype": "text/x-python"
    },
    "colab": {
      "name": "Airlines SQLite",
      "provenance": []
    }
  },
  "nbformat_minor": 0,
  "nbformat": 4,
  "cells": [
    {
      "cell_type": "markdown",
      "source": [
        "## Se descarga el codigo de Kaggle, ya que este viene de multiples fuentes"
      ],
      "metadata": {
        "id": "R9go3Lw3BZ86"
      }
    },
    {
      "source": [
        "import os\n",
        "import sys\n",
        "from tempfile import NamedTemporaryFile\n",
        "from urllib.request import urlopen\n",
        "from urllib.parse import unquote, urlparse\n",
        "from urllib.error import HTTPError\n",
        "from zipfile import ZipFile\n",
        "import tarfile\n",
        "import shutil\n",
        "\n",
        "CHUNK_SIZE = 40960\n",
        "DATA_SOURCE_MAPPING = 'airlines-dataset:https%3A%2F%2Fstorage.googleapis.com%2Fkaggle-data-sets%2F3852902%2F6678321%2Fbundle%2Farchive.zip%3FX-Goog-Algorithm%3DGOOG4-RSA-SHA256%26X-Goog-Credential%3Dgcp-kaggle-com%2540kaggle-161607.iam.gserviceaccount.com%252F20240316%252Fauto%252Fstorage%252Fgoog4_request%26X-Goog-Date%3D20240316T204423Z%26X-Goog-Expires%3D259200%26X-Goog-SignedHeaders%3Dhost%26X-Goog-Signature%3D34977f754eb8e44bc57f195201298202fa1d417af300afa69bc0e2dff519c742ef5c069229a809481a5f7ab5afede699612da99721bcbe932aede9fe505439b9af9272a547dec4de1c29f6421d037c5a950c3dcd320e3618a768b83399c562aa32f9ce157824eed66bea4be91bc5e711f95b05d8319b03d486c02bba03e366b24c103773a4befdd2e219fbdf4967715347bd5dd62a579ab259a3efd7e8e221af8e1a51765fc96ac3fddee69f9db34082fb754b8079aff14d24f9bfeb72fa2ca11fed3ce0c980a394ce824bd7104fc19055a882aa3bc93d0c0ccb82cc69c83eddac7b409c3062cd0e6eec5b9df4f87aeaefeb75f8f2fbb1d303781c343b24dece'\n",
        "\n",
        "KAGGLE_INPUT_PATH='/kaggle/input'\n",
        "KAGGLE_WORKING_PATH='/kaggle/working'\n",
        "KAGGLE_SYMLINK='kaggle'\n",
        "\n",
        "!umount /kaggle/input/ 2> /dev/null\n",
        "shutil.rmtree('/kaggle/input', ignore_errors=True)\n",
        "os.makedirs(KAGGLE_INPUT_PATH, 0o777, exist_ok=True)\n",
        "os.makedirs(KAGGLE_WORKING_PATH, 0o777, exist_ok=True)\n",
        "\n",
        "try:\n",
        "  os.symlink(KAGGLE_INPUT_PATH, os.path.join(\"..\", 'input'), target_is_directory=True)\n",
        "except FileExistsError:\n",
        "  pass\n",
        "try:\n",
        "  os.symlink(KAGGLE_WORKING_PATH, os.path.join(\"..\", 'working'), target_is_directory=True)\n",
        "except FileExistsError:\n",
        "  pass\n",
        "\n",
        "for data_source_mapping in DATA_SOURCE_MAPPING.split(','):\n",
        "    directory, download_url_encoded = data_source_mapping.split(':')\n",
        "    download_url = unquote(download_url_encoded)\n",
        "    filename = urlparse(download_url).path\n",
        "    destination_path = os.path.join(KAGGLE_INPUT_PATH, directory)\n",
        "    try:\n",
        "        with urlopen(download_url) as fileres, NamedTemporaryFile() as tfile:\n",
        "            total_length = fileres.headers['content-length']\n",
        "            print(f'Downloading {directory}, {total_length} bytes compressed')\n",
        "            dl = 0\n",
        "            data = fileres.read(CHUNK_SIZE)\n",
        "            while len(data) > 0:\n",
        "                dl += len(data)\n",
        "                tfile.write(data)\n",
        "                done = int(50 * dl / int(total_length))\n",
        "                sys.stdout.write(f\"\\r[{'=' * done}{' ' * (50-done)}] {dl} bytes downloaded\")\n",
        "                sys.stdout.flush()\n",
        "                data = fileres.read(CHUNK_SIZE)\n",
        "            if filename.endswith('.zip'):\n",
        "              with ZipFile(tfile) as zfile:\n",
        "                zfile.extractall(destination_path)\n",
        "            else:\n",
        "              with tarfile.open(tfile.name) as tarfile:\n",
        "                tarfile.extractall(destination_path)\n",
        "            print(f'\\nDownloaded and uncompressed: {directory}')\n",
        "    except HTTPError as e:\n",
        "        print(f'Failed to load (likely expired) {download_url} to path {destination_path}')\n",
        "        continue\n",
        "    except OSError as e:\n",
        "        print(f'Failed to load {download_url} to path {destination_path}')\n",
        "        continue\n",
        "\n",
        "print('Data source import complete.')\n"
      ],
      "metadata": {
        "id": "PerpvNcQAi5a",
        "outputId": "410d90dc-9f6b-4050-de59-d30354a2da95",
        "colab": {
          "base_uri": "https://localhost:8080/"
        }
      },
      "cell_type": "code",
      "outputs": [
        {
          "output_type": "stream",
          "name": "stdout",
          "text": [
            "Downloading airlines-dataset, 31061593 bytes compressed\n",
            "[==================================================] 31061593 bytes downloaded\n",
            "Downloaded and uncompressed: airlines-dataset\n",
            "Data source import complete.\n"
          ]
        }
      ],
      "execution_count": 5
    },
    {
      "cell_type": "markdown",
      "source": [
        "### Luego se importan varias bibliotecas a usar en el proyecto"
      ],
      "metadata": {
        "id": "tOZCP-6QBzuf"
      }
    },
    {
      "cell_type": "code",
      "source": [
        "import numpy as np # linear algebra\n",
        "import pandas as pd # data processing, CSV file I/O (e.g. pd.read_csv)\n",
        "import matplotlib.pyplot as plt\n",
        "import seaborn as sns\n",
        "\n",
        "import plotly.graph_objs as go\n",
        "import plotly.offline as py\n",
        "import plotly.express as px\n",
        "\n",
        "#Ignore warnings\n",
        "import warnings\n",
        "warnings.filterwarnings('ignore')\n",
        "\n",
        "import os\n",
        "for dirname, _, filenames in os.walk('/kaggle/input'):\n",
        "    for filename in filenames:\n",
        "        print(os.path.join(dirname, filename))"
      ],
      "metadata": {
        "_uuid": "8f2839f25d086af736a60e9eeb907d3b93b6e0e5",
        "_cell_guid": "b1076dfc-b9ad-4769-8c92-a6c4dae69d19",
        "execution": {
          "iopub.status.busy": "2023-10-12T23:22:58.643996Z",
          "iopub.execute_input": "2023-10-12T23:22:58.644263Z",
          "iopub.status.idle": "2023-10-12T23:23:01.321003Z",
          "shell.execute_reply.started": "2023-10-12T23:22:58.644238Z",
          "shell.execute_reply": "2023-10-12T23:23:01.320002Z"
        },
        "_kg_hide-input": true,
        "_kg_hide-output": true,
        "trusted": true,
        "id": "OXrZNHhyAi5i",
        "outputId": "03543c64-fc2d-4ce0-c65c-40e9c52f1ee4",
        "colab": {
          "base_uri": "https://localhost:8080/"
        }
      },
      "execution_count": 6,
      "outputs": [
        {
          "output_type": "stream",
          "name": "stdout",
          "text": [
            "/kaggle/input/airlines-dataset/travel.sqlite\n"
          ]
        }
      ]
    },
    {
      "cell_type": "markdown",
      "source": [
        "## Luego importa las bibliotecas necesarias para el análisis de datos"
      ],
      "metadata": {
        "id": "JsSwOMoVCFam"
      }
    },
    {
      "cell_type": "code",
      "source": [
        "import numpy as np # linear algebra\n",
        "import pandas as pd # data processing, CSV file I/O (e.g. pd.read_csv)\n",
        "import sqlite3\n",
        "import matplotlib.pyplot as plt\n",
        "\n",
        "path = \"../input/airlines-dataset/\"  #Insert path here\n",
        "database = path + 'travel.sqlite'"
      ],
      "metadata": {
        "execution": {
          "iopub.status.busy": "2023-10-12T23:28:31.450692Z",
          "iopub.execute_input": "2023-10-12T23:28:31.451061Z",
          "iopub.status.idle": "2023-10-12T23:28:31.456481Z",
          "shell.execute_reply.started": "2023-10-12T23:28:31.451035Z",
          "shell.execute_reply": "2023-10-12T23:28:31.455185Z"
        },
        "trusted": true,
        "id": "bOFozgZ8Ai5k"
      },
      "execution_count": 2,
      "outputs": []
    },
    {
      "cell_type": "markdown",
      "source": [
        "## Creamos la conexión con la  base de datos"
      ],
      "metadata": {
        "id": "EHghE4EcAi5l"
      }
    },
    {
      "cell_type": "code",
      "source": [
        "conn = sqlite3.connect(database)\n",
        "\n",
        "tables = pd.read_sql(\"\"\"SELECT *\n",
        "                        FROM sqlite_master\n",
        "                        WHERE type='table';\"\"\", conn)\n",
        "tables"
      ],
      "metadata": {
        "execution": {
          "iopub.status.busy": "2023-10-12T23:28:53.175757Z",
          "iopub.execute_input": "2023-10-12T23:28:53.176141Z",
          "iopub.status.idle": "2023-10-12T23:28:53.209129Z",
          "shell.execute_reply.started": "2023-10-12T23:28:53.176111Z",
          "shell.execute_reply": "2023-10-12T23:28:53.208349Z"
        },
        "trusted": true,
        "id": "anYp-LLRAi5m",
        "outputId": "f720ee2f-e9b9-4391-ccf4-3e4fc8ff487f",
        "colab": {
          "base_uri": "https://localhost:8080/",
          "height": 300
        }
      },
      "execution_count": 3,
      "outputs": [
        {
          "output_type": "execute_result",
          "data": {
            "text/plain": [
              "    type             name         tbl_name  rootpage  \\\n",
              "0  table   aircrafts_data   aircrafts_data         2   \n",
              "1  table    airports_data    airports_data         3   \n",
              "2  table  boarding_passes  boarding_passes         4   \n",
              "3  table         bookings         bookings         5   \n",
              "4  table          flights          flights         6   \n",
              "5  table            seats            seats         7   \n",
              "6  table   ticket_flights   ticket_flights         8   \n",
              "7  table          tickets          tickets         9   \n",
              "\n",
              "                                                 sql  \n",
              "0  CREATE TABLE aircrafts_data (\\r\\n    aircraft_...  \n",
              "1  CREATE TABLE airports_data (\\r\\n    airport_co...  \n",
              "2  CREATE TABLE boarding_passes (\\r\\n    ticket_n...  \n",
              "3  CREATE TABLE bookings (\\r\\n    book_ref charac...  \n",
              "4  CREATE TABLE flights (\\r\\n    flight_id intege...  \n",
              "5  CREATE TABLE seats (\\r\\n    aircraft_code char...  \n",
              "6  CREATE TABLE ticket_flights (\\r\\n    ticket_no...  \n",
              "7  CREATE TABLE tickets (\\r\\n    ticket_no charac...  "
            ],
            "text/html": [
              "\n",
              "  <div id=\"df-b67b3f3b-f84f-4999-952a-4acbbfb151e5\" class=\"colab-df-container\">\n",
              "    <div>\n",
              "<style scoped>\n",
              "    .dataframe tbody tr th:only-of-type {\n",
              "        vertical-align: middle;\n",
              "    }\n",
              "\n",
              "    .dataframe tbody tr th {\n",
              "        vertical-align: top;\n",
              "    }\n",
              "\n",
              "    .dataframe thead th {\n",
              "        text-align: right;\n",
              "    }\n",
              "</style>\n",
              "<table border=\"1\" class=\"dataframe\">\n",
              "  <thead>\n",
              "    <tr style=\"text-align: right;\">\n",
              "      <th></th>\n",
              "      <th>type</th>\n",
              "      <th>name</th>\n",
              "      <th>tbl_name</th>\n",
              "      <th>rootpage</th>\n",
              "      <th>sql</th>\n",
              "    </tr>\n",
              "  </thead>\n",
              "  <tbody>\n",
              "    <tr>\n",
              "      <th>0</th>\n",
              "      <td>table</td>\n",
              "      <td>aircrafts_data</td>\n",
              "      <td>aircrafts_data</td>\n",
              "      <td>2</td>\n",
              "      <td>CREATE TABLE aircrafts_data (\\r\\n    aircraft_...</td>\n",
              "    </tr>\n",
              "    <tr>\n",
              "      <th>1</th>\n",
              "      <td>table</td>\n",
              "      <td>airports_data</td>\n",
              "      <td>airports_data</td>\n",
              "      <td>3</td>\n",
              "      <td>CREATE TABLE airports_data (\\r\\n    airport_co...</td>\n",
              "    </tr>\n",
              "    <tr>\n",
              "      <th>2</th>\n",
              "      <td>table</td>\n",
              "      <td>boarding_passes</td>\n",
              "      <td>boarding_passes</td>\n",
              "      <td>4</td>\n",
              "      <td>CREATE TABLE boarding_passes (\\r\\n    ticket_n...</td>\n",
              "    </tr>\n",
              "    <tr>\n",
              "      <th>3</th>\n",
              "      <td>table</td>\n",
              "      <td>bookings</td>\n",
              "      <td>bookings</td>\n",
              "      <td>5</td>\n",
              "      <td>CREATE TABLE bookings (\\r\\n    book_ref charac...</td>\n",
              "    </tr>\n",
              "    <tr>\n",
              "      <th>4</th>\n",
              "      <td>table</td>\n",
              "      <td>flights</td>\n",
              "      <td>flights</td>\n",
              "      <td>6</td>\n",
              "      <td>CREATE TABLE flights (\\r\\n    flight_id intege...</td>\n",
              "    </tr>\n",
              "    <tr>\n",
              "      <th>5</th>\n",
              "      <td>table</td>\n",
              "      <td>seats</td>\n",
              "      <td>seats</td>\n",
              "      <td>7</td>\n",
              "      <td>CREATE TABLE seats (\\r\\n    aircraft_code char...</td>\n",
              "    </tr>\n",
              "    <tr>\n",
              "      <th>6</th>\n",
              "      <td>table</td>\n",
              "      <td>ticket_flights</td>\n",
              "      <td>ticket_flights</td>\n",
              "      <td>8</td>\n",
              "      <td>CREATE TABLE ticket_flights (\\r\\n    ticket_no...</td>\n",
              "    </tr>\n",
              "    <tr>\n",
              "      <th>7</th>\n",
              "      <td>table</td>\n",
              "      <td>tickets</td>\n",
              "      <td>tickets</td>\n",
              "      <td>9</td>\n",
              "      <td>CREATE TABLE tickets (\\r\\n    ticket_no charac...</td>\n",
              "    </tr>\n",
              "  </tbody>\n",
              "</table>\n",
              "</div>\n",
              "    <div class=\"colab-df-buttons\">\n",
              "\n",
              "  <div class=\"colab-df-container\">\n",
              "    <button class=\"colab-df-convert\" onclick=\"convertToInteractive('df-b67b3f3b-f84f-4999-952a-4acbbfb151e5')\"\n",
              "            title=\"Convert this dataframe to an interactive table.\"\n",
              "            style=\"display:none;\">\n",
              "\n",
              "  <svg xmlns=\"http://www.w3.org/2000/svg\" height=\"24px\" viewBox=\"0 -960 960 960\">\n",
              "    <path d=\"M120-120v-720h720v720H120Zm60-500h600v-160H180v160Zm220 220h160v-160H400v160Zm0 220h160v-160H400v160ZM180-400h160v-160H180v160Zm440 0h160v-160H620v160ZM180-180h160v-160H180v160Zm440 0h160v-160H620v160Z\"/>\n",
              "  </svg>\n",
              "    </button>\n",
              "\n",
              "  <style>\n",
              "    .colab-df-container {\n",
              "      display:flex;\n",
              "      gap: 12px;\n",
              "    }\n",
              "\n",
              "    .colab-df-convert {\n",
              "      background-color: #E8F0FE;\n",
              "      border: none;\n",
              "      border-radius: 50%;\n",
              "      cursor: pointer;\n",
              "      display: none;\n",
              "      fill: #1967D2;\n",
              "      height: 32px;\n",
              "      padding: 0 0 0 0;\n",
              "      width: 32px;\n",
              "    }\n",
              "\n",
              "    .colab-df-convert:hover {\n",
              "      background-color: #E2EBFA;\n",
              "      box-shadow: 0px 1px 2px rgba(60, 64, 67, 0.3), 0px 1px 3px 1px rgba(60, 64, 67, 0.15);\n",
              "      fill: #174EA6;\n",
              "    }\n",
              "\n",
              "    .colab-df-buttons div {\n",
              "      margin-bottom: 4px;\n",
              "    }\n",
              "\n",
              "    [theme=dark] .colab-df-convert {\n",
              "      background-color: #3B4455;\n",
              "      fill: #D2E3FC;\n",
              "    }\n",
              "\n",
              "    [theme=dark] .colab-df-convert:hover {\n",
              "      background-color: #434B5C;\n",
              "      box-shadow: 0px 1px 3px 1px rgba(0, 0, 0, 0.15);\n",
              "      filter: drop-shadow(0px 1px 2px rgba(0, 0, 0, 0.3));\n",
              "      fill: #FFFFFF;\n",
              "    }\n",
              "  </style>\n",
              "\n",
              "    <script>\n",
              "      const buttonEl =\n",
              "        document.querySelector('#df-b67b3f3b-f84f-4999-952a-4acbbfb151e5 button.colab-df-convert');\n",
              "      buttonEl.style.display =\n",
              "        google.colab.kernel.accessAllowed ? 'block' : 'none';\n",
              "\n",
              "      async function convertToInteractive(key) {\n",
              "        const element = document.querySelector('#df-b67b3f3b-f84f-4999-952a-4acbbfb151e5');\n",
              "        const dataTable =\n",
              "          await google.colab.kernel.invokeFunction('convertToInteractive',\n",
              "                                                    [key], {});\n",
              "        if (!dataTable) return;\n",
              "\n",
              "        const docLinkHtml = 'Like what you see? Visit the ' +\n",
              "          '<a target=\"_blank\" href=https://colab.research.google.com/notebooks/data_table.ipynb>data table notebook</a>'\n",
              "          + ' to learn more about interactive tables.';\n",
              "        element.innerHTML = '';\n",
              "        dataTable['output_type'] = 'display_data';\n",
              "        await google.colab.output.renderOutput(dataTable, element);\n",
              "        const docLink = document.createElement('div');\n",
              "        docLink.innerHTML = docLinkHtml;\n",
              "        element.appendChild(docLink);\n",
              "      }\n",
              "    </script>\n",
              "  </div>\n",
              "\n",
              "\n",
              "<div id=\"df-2b926a5f-1740-4b3a-9b6f-37f4c87a77ca\">\n",
              "  <button class=\"colab-df-quickchart\" onclick=\"quickchart('df-2b926a5f-1740-4b3a-9b6f-37f4c87a77ca')\"\n",
              "            title=\"Suggest charts\"\n",
              "            style=\"display:none;\">\n",
              "\n",
              "<svg xmlns=\"http://www.w3.org/2000/svg\" height=\"24px\"viewBox=\"0 0 24 24\"\n",
              "     width=\"24px\">\n",
              "    <g>\n",
              "        <path d=\"M19 3H5c-1.1 0-2 .9-2 2v14c0 1.1.9 2 2 2h14c1.1 0 2-.9 2-2V5c0-1.1-.9-2-2-2zM9 17H7v-7h2v7zm4 0h-2V7h2v10zm4 0h-2v-4h2v4z\"/>\n",
              "    </g>\n",
              "</svg>\n",
              "  </button>\n",
              "\n",
              "<style>\n",
              "  .colab-df-quickchart {\n",
              "      --bg-color: #E8F0FE;\n",
              "      --fill-color: #1967D2;\n",
              "      --hover-bg-color: #E2EBFA;\n",
              "      --hover-fill-color: #174EA6;\n",
              "      --disabled-fill-color: #AAA;\n",
              "      --disabled-bg-color: #DDD;\n",
              "  }\n",
              "\n",
              "  [theme=dark] .colab-df-quickchart {\n",
              "      --bg-color: #3B4455;\n",
              "      --fill-color: #D2E3FC;\n",
              "      --hover-bg-color: #434B5C;\n",
              "      --hover-fill-color: #FFFFFF;\n",
              "      --disabled-bg-color: #3B4455;\n",
              "      --disabled-fill-color: #666;\n",
              "  }\n",
              "\n",
              "  .colab-df-quickchart {\n",
              "    background-color: var(--bg-color);\n",
              "    border: none;\n",
              "    border-radius: 50%;\n",
              "    cursor: pointer;\n",
              "    display: none;\n",
              "    fill: var(--fill-color);\n",
              "    height: 32px;\n",
              "    padding: 0;\n",
              "    width: 32px;\n",
              "  }\n",
              "\n",
              "  .colab-df-quickchart:hover {\n",
              "    background-color: var(--hover-bg-color);\n",
              "    box-shadow: 0 1px 2px rgba(60, 64, 67, 0.3), 0 1px 3px 1px rgba(60, 64, 67, 0.15);\n",
              "    fill: var(--button-hover-fill-color);\n",
              "  }\n",
              "\n",
              "  .colab-df-quickchart-complete:disabled,\n",
              "  .colab-df-quickchart-complete:disabled:hover {\n",
              "    background-color: var(--disabled-bg-color);\n",
              "    fill: var(--disabled-fill-color);\n",
              "    box-shadow: none;\n",
              "  }\n",
              "\n",
              "  .colab-df-spinner {\n",
              "    border: 2px solid var(--fill-color);\n",
              "    border-color: transparent;\n",
              "    border-bottom-color: var(--fill-color);\n",
              "    animation:\n",
              "      spin 1s steps(1) infinite;\n",
              "  }\n",
              "\n",
              "  @keyframes spin {\n",
              "    0% {\n",
              "      border-color: transparent;\n",
              "      border-bottom-color: var(--fill-color);\n",
              "      border-left-color: var(--fill-color);\n",
              "    }\n",
              "    20% {\n",
              "      border-color: transparent;\n",
              "      border-left-color: var(--fill-color);\n",
              "      border-top-color: var(--fill-color);\n",
              "    }\n",
              "    30% {\n",
              "      border-color: transparent;\n",
              "      border-left-color: var(--fill-color);\n",
              "      border-top-color: var(--fill-color);\n",
              "      border-right-color: var(--fill-color);\n",
              "    }\n",
              "    40% {\n",
              "      border-color: transparent;\n",
              "      border-right-color: var(--fill-color);\n",
              "      border-top-color: var(--fill-color);\n",
              "    }\n",
              "    60% {\n",
              "      border-color: transparent;\n",
              "      border-right-color: var(--fill-color);\n",
              "    }\n",
              "    80% {\n",
              "      border-color: transparent;\n",
              "      border-right-color: var(--fill-color);\n",
              "      border-bottom-color: var(--fill-color);\n",
              "    }\n",
              "    90% {\n",
              "      border-color: transparent;\n",
              "      border-bottom-color: var(--fill-color);\n",
              "    }\n",
              "  }\n",
              "</style>\n",
              "\n",
              "  <script>\n",
              "    async function quickchart(key) {\n",
              "      const quickchartButtonEl =\n",
              "        document.querySelector('#' + key + ' button');\n",
              "      quickchartButtonEl.disabled = true;  // To prevent multiple clicks.\n",
              "      quickchartButtonEl.classList.add('colab-df-spinner');\n",
              "      try {\n",
              "        const charts = await google.colab.kernel.invokeFunction(\n",
              "            'suggestCharts', [key], {});\n",
              "      } catch (error) {\n",
              "        console.error('Error during call to suggestCharts:', error);\n",
              "      }\n",
              "      quickchartButtonEl.classList.remove('colab-df-spinner');\n",
              "      quickchartButtonEl.classList.add('colab-df-quickchart-complete');\n",
              "    }\n",
              "    (() => {\n",
              "      let quickchartButtonEl =\n",
              "        document.querySelector('#df-2b926a5f-1740-4b3a-9b6f-37f4c87a77ca button');\n",
              "      quickchartButtonEl.style.display =\n",
              "        google.colab.kernel.accessAllowed ? 'block' : 'none';\n",
              "    })();\n",
              "  </script>\n",
              "</div>\n",
              "\n",
              "  <div id=\"id_6dc9147c-de80-4542-b1ac-64404c27fbbb\">\n",
              "    <style>\n",
              "      .colab-df-generate {\n",
              "        background-color: #E8F0FE;\n",
              "        border: none;\n",
              "        border-radius: 50%;\n",
              "        cursor: pointer;\n",
              "        display: none;\n",
              "        fill: #1967D2;\n",
              "        height: 32px;\n",
              "        padding: 0 0 0 0;\n",
              "        width: 32px;\n",
              "      }\n",
              "\n",
              "      .colab-df-generate:hover {\n",
              "        background-color: #E2EBFA;\n",
              "        box-shadow: 0px 1px 2px rgba(60, 64, 67, 0.3), 0px 1px 3px 1px rgba(60, 64, 67, 0.15);\n",
              "        fill: #174EA6;\n",
              "      }\n",
              "\n",
              "      [theme=dark] .colab-df-generate {\n",
              "        background-color: #3B4455;\n",
              "        fill: #D2E3FC;\n",
              "      }\n",
              "\n",
              "      [theme=dark] .colab-df-generate:hover {\n",
              "        background-color: #434B5C;\n",
              "        box-shadow: 0px 1px 3px 1px rgba(0, 0, 0, 0.15);\n",
              "        filter: drop-shadow(0px 1px 2px rgba(0, 0, 0, 0.3));\n",
              "        fill: #FFFFFF;\n",
              "      }\n",
              "    </style>\n",
              "    <button class=\"colab-df-generate\" onclick=\"generateWithVariable('tables')\"\n",
              "            title=\"Generate code using this dataframe.\"\n",
              "            style=\"display:none;\">\n",
              "\n",
              "  <svg xmlns=\"http://www.w3.org/2000/svg\" height=\"24px\"viewBox=\"0 0 24 24\"\n",
              "       width=\"24px\">\n",
              "    <path d=\"M7,19H8.4L18.45,9,17,7.55,7,17.6ZM5,21V16.75L18.45,3.32a2,2,0,0,1,2.83,0l1.4,1.43a1.91,1.91,0,0,1,.58,1.4,1.91,1.91,0,0,1-.58,1.4L9.25,21ZM18.45,9,17,7.55Zm-12,3A5.31,5.31,0,0,0,4.9,8.1,5.31,5.31,0,0,0,1,6.5,5.31,5.31,0,0,0,4.9,4.9,5.31,5.31,0,0,0,6.5,1,5.31,5.31,0,0,0,8.1,4.9,5.31,5.31,0,0,0,12,6.5,5.46,5.46,0,0,0,6.5,12Z\"/>\n",
              "  </svg>\n",
              "    </button>\n",
              "    <script>\n",
              "      (() => {\n",
              "      const buttonEl =\n",
              "        document.querySelector('#id_6dc9147c-de80-4542-b1ac-64404c27fbbb button.colab-df-generate');\n",
              "      buttonEl.style.display =\n",
              "        google.colab.kernel.accessAllowed ? 'block' : 'none';\n",
              "\n",
              "      buttonEl.onclick = () => {\n",
              "        google.colab.notebook.generateWithVariable('tables');\n",
              "      }\n",
              "      })();\n",
              "    </script>\n",
              "  </div>\n",
              "\n",
              "    </div>\n",
              "  </div>\n"
            ],
            "application/vnd.google.colaboratory.intrinsic+json": {
              "type": "dataframe",
              "variable_name": "tables",
              "summary": "{\n  \"name\": \"tables\",\n  \"rows\": 8,\n  \"fields\": [\n    {\n      \"column\": \"type\",\n      \"properties\": {\n        \"dtype\": \"category\",\n        \"num_unique_values\": 1,\n        \"samples\": [\n          \"table\"\n        ],\n        \"semantic_type\": \"\",\n        \"description\": \"\"\n      }\n    },\n    {\n      \"column\": \"name\",\n      \"properties\": {\n        \"dtype\": \"string\",\n        \"num_unique_values\": 8,\n        \"samples\": [\n          \"airports_data\"\n        ],\n        \"semantic_type\": \"\",\n        \"description\": \"\"\n      }\n    },\n    {\n      \"column\": \"tbl_name\",\n      \"properties\": {\n        \"dtype\": \"string\",\n        \"num_unique_values\": 8,\n        \"samples\": [\n          \"airports_data\"\n        ],\n        \"semantic_type\": \"\",\n        \"description\": \"\"\n      }\n    },\n    {\n      \"column\": \"rootpage\",\n      \"properties\": {\n        \"dtype\": \"number\",\n        \"std\": 2,\n        \"min\": 2,\n        \"max\": 9,\n        \"num_unique_values\": 8,\n        \"samples\": [\n          3\n        ],\n        \"semantic_type\": \"\",\n        \"description\": \"\"\n      }\n    },\n    {\n      \"column\": \"sql\",\n      \"properties\": {\n        \"dtype\": \"string\",\n        \"num_unique_values\": 8,\n        \"samples\": [\n          \"CREATE TABLE airports_data (\\r\\n    airport_code character(3) NOT NULL,\\r\\n    airport_name jsonb NOT NULL,\\r\\n    city jsonb NOT NULL,\\r\\n    coordinates point NOT NULL,\\r\\n    timezone text NOT NULL\\r\\n)\"\n        ],\n        \"semantic_type\": \"\",\n        \"description\": \"\"\n      }\n    }\n  ]\n}"
            }
          },
          "metadata": {},
          "execution_count": 3
        }
      ]
    },
    {
      "cell_type": "markdown",
      "source": [
        "# ii. Para el dataset de aviones responder:\n",
        "\n",
        "## 1. ¿En el dataset de aviones: que tipos de asientos y tiquetes hay?"
      ],
      "metadata": {
        "id": "nlHURZriCaua"
      }
    },
    {
      "cell_type": "code",
      "source": [
        "seats = pd.read_sql(\"SELECT * FROM seats\", conn)\n",
        "\n",
        "print(\"\\n\")\n",
        "\n",
        "print(\"Tipos de Asientos Disponibles:\")\n",
        "print(\"\\n\")\n",
        "tipos_asiento = seats['fare_conditions'].value_counts()\n",
        "print(tipos_asiento)"
      ],
      "metadata": {
        "id": "cCBeQ8yXIx71",
        "outputId": "99f87eab-ef89-424b-c5f3-e8eaf5694841",
        "colab": {
          "base_uri": "https://localhost:8080/"
        }
      },
      "execution_count": 47,
      "outputs": [
        {
          "output_type": "stream",
          "name": "stdout",
          "text": [
            "\n",
            "\n",
            "Tipos de Asientos Disponibles:\n",
            "\n",
            "\n",
            "Economy     1139\n",
            "Business     152\n",
            "Comfort       48\n",
            "Name: fare_conditions, dtype: int64\n"
          ]
        }
      ]
    },
    {
      "cell_type": "markdown",
      "source": [
        "## 2. ¿Qué modelos de aviones hay?\n"
      ],
      "metadata": {
        "id": "_Ql0_Xy1Mkfa"
      }
    },
    {
      "cell_type": "code",
      "source": [
        "aircrafts_data = pd.read_sql(\"SELECT * FROM aircrafts_data\", conn)\n",
        "\n",
        "print(\"Modelos de Aviones Disponibles:\")\n",
        "print(\"\\n\")\n",
        "modelo_aviones = aircrafts_data['model'].value_counts()\n",
        "print(modelo_aviones)"
      ],
      "metadata": {
        "id": "o7iHkAfNCPD0",
        "outputId": "0204e34b-b794-4843-a7ed-e7ee120bfe00",
        "colab": {
          "base_uri": "https://localhost:8080/"
        }
      },
      "execution_count": 46,
      "outputs": [
        {
          "output_type": "stream",
          "name": "stdout",
          "text": [
            "Modelos de Aviones Disponibles:\n",
            "\n",
            "\n",
            "{\"en\": \"Boeing 777-300\", \"ru\": \"Боинг 777-300\"}               1\n",
            "{\"en\": \"Boeing 767-300\", \"ru\": \"Боинг 767-300\"}               1\n",
            "{\"en\": \"Sukhoi Superjet-100\", \"ru\": \"Сухой Суперджет-100\"}    1\n",
            "{\"en\": \"Airbus A320-200\", \"ru\": \"Аэробус A320-200\"}           1\n",
            "{\"en\": \"Airbus A321-200\", \"ru\": \"Аэробус A321-200\"}           1\n",
            "{\"en\": \"Airbus A319-100\", \"ru\": \"Аэробус A319-100\"}           1\n",
            "{\"en\": \"Boeing 737-300\", \"ru\": \"Боинг 737-300\"}               1\n",
            "{\"en\": \"Cessna 208 Caravan\", \"ru\": \"Сессна 208 Караван\"}      1\n",
            "{\"en\": \"Bombardier CRJ-200\", \"ru\": \"Бомбардье CRJ-200\"}       1\n",
            "Name: model, dtype: int64\n"
          ]
        }
      ]
    },
    {
      "cell_type": "markdown",
      "source": [
        "##3. ¿Cuántas reservas hay?"
      ],
      "metadata": {
        "id": "v2m-skW0Mrm3"
      }
    },
    {
      "cell_type": "code",
      "source": [
        "bookings = pd.read_sql(\"SELECT * FROM bookings\", conn)\n",
        "\n",
        "print(\"Cantidad Total de Reservas:\")\n",
        "print(\"\\n\")\n",
        "cantidad_reservas = len(bookings)\n",
        "print(cantidad_reservas)"
      ],
      "metadata": {
        "id": "ug7AB6N4CfM8",
        "outputId": "47f39e76-9236-4d4b-ae6c-eb081dbed4c8",
        "colab": {
          "base_uri": "https://localhost:8080/"
        }
      },
      "execution_count": 61,
      "outputs": [
        {
          "output_type": "stream",
          "name": "stdout",
          "text": [
            "Cantidad Total de Reservas:\n",
            "\n",
            "\n",
            "262788\n"
          ]
        }
      ]
    },
    {
      "cell_type": "markdown",
      "source": [
        "##4. ¿Cuál es el precio medio de las reservas? ¿el más caro? ¿El más barato?\n"
      ],
      "metadata": {
        "id": "d06qdARePUKM"
      }
    },
    {
      "cell_type": "code",
      "source": [
        "bookings = pd.read_sql(\"SELECT * FROM bookings\", conn)\n",
        "\n",
        "print(\"El precio medio de las reservas es:\")\n",
        "print(\"\\n\")\n",
        "reservas = bookings['total_amount'].mean()\n",
        "print(\"$\", reservas)\n",
        "print(\"\\n\")\n",
        "print(\"El precio mas alto de las reservas es:\")\n",
        "print(\"\\n\")\n",
        "reservas = bookings['total_amount'].max()\n",
        "print(\"$\", reservas)\n",
        "print(\"\\n\")\n",
        "print(\"El precio mas bajo de las reservas es:\")\n",
        "print(\"\\n\")\n",
        "reservas = bookings['total_amount'].min()\n",
        "print(\"$\", reservas)"
      ],
      "metadata": {
        "id": "0cBoiFzgIXDl",
        "outputId": "b141449e-f216-4410-9f6e-28e9146f441a",
        "colab": {
          "base_uri": "https://localhost:8080/"
        }
      },
      "execution_count": 64,
      "outputs": [
        {
          "output_type": "stream",
          "name": "stdout",
          "text": [
            "El precio medio de las reservas es:\n",
            "\n",
            "\n",
            "$ 79025.60581152869\n",
            "\n",
            "\n",
            "El precio mas alto de las reservas es:\n",
            "\n",
            "\n",
            "$ 1204500\n",
            "\n",
            "\n",
            "El precio mas bajo de las reservas es:\n",
            "\n",
            "\n",
            "$ 3400\n"
          ]
        }
      ]
    },
    {
      "cell_type": "markdown",
      "source": [
        "##5. ¿Qué rangos de aeronaves hay? (ordenarlos descendentemente)"
      ],
      "metadata": {
        "id": "vJsYSoDOPa7B"
      }
    },
    {
      "cell_type": "code",
      "source": [
        "aircrafts_data = pd.read_sql(\"SELECT * FROM aircrafts_data\", conn)\n",
        "\n",
        "print(\"Los rangos son (Ordenados descendentemente):\")\n",
        "print(\"\\n\")\n",
        "rangos_aviones = aircrafts_data['range'].unique()\n",
        "rangos_aviones_descendente = sorted(rangos_aviones, reverse=True)\n",
        "for rango in rangos_aviones_descendente:\n",
        "    print(rango)"
      ],
      "metadata": {
        "id": "drE9dLU8Pd3J",
        "outputId": "ae52dbd7-c5dc-4d52-f5bc-286f2dfcc0d3",
        "colab": {
          "base_uri": "https://localhost:8080/"
        }
      },
      "execution_count": 73,
      "outputs": [
        {
          "output_type": "stream",
          "name": "stdout",
          "text": [
            "Los rangos son (Ordenados descendentemente):\n",
            "\n",
            "\n",
            "11100\n",
            "7900\n",
            "6700\n",
            "5700\n",
            "5600\n",
            "4200\n",
            "3000\n",
            "2700\n",
            "1200\n"
          ]
        }
      ]
    },
    {
      "cell_type": "code",
      "source": [],
      "metadata": {
        "id": "3wOEI8B7RP9m"
      },
      "execution_count": 70,
      "outputs": []
    }
  ]
}