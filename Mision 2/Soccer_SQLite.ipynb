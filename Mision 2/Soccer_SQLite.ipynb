{
  "metadata": {
    "kernelspec": {
      "language": "python",
      "display_name": "Python 3",
      "name": "python3"
    },
    "language_info": {
      "pygments_lexer": "ipython3",
      "nbconvert_exporter": "python",
      "version": "3.6.4",
      "file_extension": ".py",
      "codemirror_mode": {
        "name": "ipython",
        "version": 3
      },
      "name": "python",
      "mimetype": "text/x-python"
    },
    "colab": {
      "provenance": []
    }
  },
  "nbformat_minor": 0,
  "nbformat": 4,
  "cells": [
    {
      "cell_type": "markdown",
      "source": [
        "## Se descarga el codigo de Kaggle, ya que este viene de multiples fuentes"
      ],
      "metadata": {
        "id": "R9go3Lw3BZ86"
      }
    },
    {
      "source": [
        "import os\n",
        "import sys\n",
        "from tempfile import NamedTemporaryFile\n",
        "from urllib.request import urlopen\n",
        "from urllib.parse import unquote, urlparse\n",
        "from urllib.error import HTTPError\n",
        "from zipfile import ZipFile\n",
        "import tarfile\n",
        "import shutil\n",
        "\n",
        "CHUNK_SIZE = 40960\n",
        "DATA_SOURCE_MAPPING = ':https%3A%2F%2Fstorage.googleapis.com%2Fkaggle-data-sets%2F63%2F589%2Fbundle%2Farchive.zip%3FX-Goog-Algorithm%3DGOOG4-RSA-SHA256%26X-Goog-Credential%3Dgcp-kaggle-com%2540kaggle-161607.iam.gserviceaccount.com%252F20240316%252Fauto%252Fstorage%252Fgoog4_request%26X-Goog-Date%3D20240316T222831Z%26X-Goog-Expires%3D259200%26X-Goog-SignedHeaders%3Dhost%26X-Goog-Signature%3Db88a09aef4289d7b06fc649c0d4692c08bed79c3ef80d324eab9e484ee302e9bfb733ecb9a0a48a9e358931eb72141ba0bbc936bee3feac070c9b06e2d08193dc1761f951d70467a749e603efdf8ccb26275c40f9c0cba155223ad1a7a375087f94f51be1ac18f8c7edd5db80011c883b722e8197aca31ff08c4ec180fc6b16303bed9415d039ca773eee4cfbf0774ffe0f9d9d0a4a9a98da3f7f82bdb9fdb5786f30c4f5715d39474003ffd092165f5e44478bd92bdf34f4dc2bd35c3f82f41ee90159c038ce53b5a2b65dcf1d5ab8150a8a4cfd69d3be72baef1274380b4ac8df7ea0a2ced66dacbae3aef9ea064460a6063f4cc142d8fdaa5de4331509f41'\n",
        "\n",
        "KAGGLE_INPUT_PATH='/kaggle/input'\n",
        "KAGGLE_WORKING_PATH='/kaggle/working'\n",
        "KAGGLE_SYMLINK='kaggle'\n",
        "\n",
        "!umount /kaggle/input/ 2> /dev/null\n",
        "shutil.rmtree('/kaggle/input', ignore_errors=True)\n",
        "os.makedirs(KAGGLE_INPUT_PATH, 0o777, exist_ok=True)\n",
        "os.makedirs(KAGGLE_WORKING_PATH, 0o777, exist_ok=True)\n",
        "\n",
        "try:\n",
        "  os.symlink(KAGGLE_INPUT_PATH, os.path.join(\"..\", 'input'), target_is_directory=True)\n",
        "except FileExistsError:\n",
        "  pass\n",
        "try:\n",
        "  os.symlink(KAGGLE_WORKING_PATH, os.path.join(\"..\", 'working'), target_is_directory=True)\n",
        "except FileExistsError:\n",
        "  pass\n",
        "\n",
        "for data_source_mapping in DATA_SOURCE_MAPPING.split(','):\n",
        "    directory, download_url_encoded = data_source_mapping.split(':')\n",
        "    download_url = unquote(download_url_encoded)\n",
        "    filename = urlparse(download_url).path\n",
        "    destination_path = os.path.join(KAGGLE_INPUT_PATH, directory)\n",
        "    try:\n",
        "        with urlopen(download_url) as fileres, NamedTemporaryFile() as tfile:\n",
        "            total_length = fileres.headers['content-length']\n",
        "            print(f'Downloading {directory}, {total_length} bytes compressed')\n",
        "            dl = 0\n",
        "            data = fileres.read(CHUNK_SIZE)\n",
        "            while len(data) > 0:\n",
        "                dl += len(data)\n",
        "                tfile.write(data)\n",
        "                done = int(50 * dl / int(total_length))\n",
        "                sys.stdout.write(f\"\\r[{'=' * done}{' ' * (50-done)}] {dl} bytes downloaded\")\n",
        "                sys.stdout.flush()\n",
        "                data = fileres.read(CHUNK_SIZE)\n",
        "            if filename.endswith('.zip'):\n",
        "              with ZipFile(tfile) as zfile:\n",
        "                zfile.extractall(destination_path)\n",
        "            else:\n",
        "              with tarfile.open(tfile.name) as tarfile:\n",
        "                tarfile.extractall(destination_path)\n",
        "            print(f'\\nDownloaded and uncompressed: {directory}')\n",
        "    except HTTPError as e:\n",
        "        print(f'Failed to load (likely expired) {download_url} to path {destination_path}')\n",
        "        continue\n",
        "    except OSError as e:\n",
        "        print(f'Failed to load {download_url} to path {destination_path}')\n",
        "        continue\n",
        "\n",
        "print('Data source import complete.')"
      ],
      "metadata": {
        "id": "PerpvNcQAi5a",
        "outputId": "a72e6ef5-93eb-44bf-9817-d86c791402de",
        "colab": {
          "base_uri": "https://localhost:8080/"
        }
      },
      "cell_type": "code",
      "outputs": [
        {
          "output_type": "stream",
          "name": "stdout",
          "text": [
            "Downloading , 34297253 bytes compressed\n",
            "[==================================================] 34297253 bytes downloaded\n",
            "Downloaded and uncompressed: \n",
            "Data source import complete.\n"
          ]
        }
      ],
      "execution_count": 8
    },
    {
      "cell_type": "markdown",
      "source": [
        "## Luego se importan varias bibliotecas a usar en el proyecto para el análisis de datos"
      ],
      "metadata": {
        "id": "tOZCP-6QBzuf"
      }
    },
    {
      "cell_type": "code",
      "source": [
        "import numpy as np # linear algebra\n",
        "import pandas as pd # data processing, CSV file I/O (e.g. pd.read_csv)\n",
        "import sqlite3\n",
        "import matplotlib.pyplot as plt\n",
        "\n",
        "# Input data files are available in the \"../input/\" directory.\n",
        "# For example, running this (by clicking run or pressing Shift+Enter) will list the files in the input directory\n",
        "\n",
        "path = \"../input/\"  #Insert path here\n",
        "database = path + 'database.sqlite'"
      ],
      "metadata": {
        "_uuid": "8f2839f25d086af736a60e9eeb907d3b93b6e0e5",
        "_cell_guid": "b1076dfc-b9ad-4769-8c92-a6c4dae69d19",
        "execution": {
          "iopub.status.busy": "2023-10-12T23:22:58.643996Z",
          "iopub.execute_input": "2023-10-12T23:22:58.644263Z",
          "iopub.status.idle": "2023-10-12T23:23:01.321003Z",
          "shell.execute_reply.started": "2023-10-12T23:22:58.644238Z",
          "shell.execute_reply": "2023-10-12T23:23:01.320002Z"
        },
        "_kg_hide-input": true,
        "_kg_hide-output": true,
        "trusted": true,
        "id": "OXrZNHhyAi5i"
      },
      "execution_count": 9,
      "outputs": []
    },
    {
      "cell_type": "markdown",
      "source": [
        "## Creamos la conexión con la  base de datos"
      ],
      "metadata": {
        "id": "EHghE4EcAi5l"
      }
    },
    {
      "cell_type": "code",
      "source": [
        "conn = sqlite3.connect(database)\n",
        "\n",
        "tables = pd.read_sql(\"\"\"SELECT *\n",
        "                        FROM sqlite_master\n",
        "                        WHERE type='table';\"\"\", conn)\n",
        "tables"
      ],
      "metadata": {
        "execution": {
          "iopub.status.busy": "2023-10-12T23:28:53.175757Z",
          "iopub.execute_input": "2023-10-12T23:28:53.176141Z",
          "iopub.status.idle": "2023-10-12T23:28:53.209129Z",
          "shell.execute_reply.started": "2023-10-12T23:28:53.176111Z",
          "shell.execute_reply": "2023-10-12T23:28:53.208349Z"
        },
        "trusted": true,
        "id": "anYp-LLRAi5m",
        "outputId": "e204f417-700e-42a4-b16f-fb8c0a9125a4",
        "colab": {
          "base_uri": "https://localhost:8080/",
          "height": 300
        }
      },
      "execution_count": 10,
      "outputs": [
        {
          "output_type": "execute_result",
          "data": {
            "text/plain": [
              "    type               name           tbl_name  rootpage  \\\n",
              "0  table    sqlite_sequence    sqlite_sequence         4   \n",
              "1  table  Player_Attributes  Player_Attributes        11   \n",
              "2  table             Player             Player        14   \n",
              "3  table              Match              Match        18   \n",
              "4  table             League             League        24   \n",
              "5  table            Country            Country        26   \n",
              "6  table               Team               Team        29   \n",
              "7  table    Team_Attributes    Team_Attributes         2   \n",
              "\n",
              "                                                 sql  \n",
              "0             CREATE TABLE sqlite_sequence(name,seq)  \n",
              "1  CREATE TABLE \"Player_Attributes\" (\\n\\t`id`\\tIN...  \n",
              "2  CREATE TABLE `Player` (\\n\\t`id`\\tINTEGER PRIMA...  \n",
              "3  CREATE TABLE `Match` (\\n\\t`id`\\tINTEGER PRIMAR...  \n",
              "4  CREATE TABLE `League` (\\n\\t`id`\\tINTEGER PRIMA...  \n",
              "5  CREATE TABLE `Country` (\\n\\t`id`\\tINTEGER PRIM...  \n",
              "6  CREATE TABLE \"Team\" (\\n\\t`id`\\tINTEGER PRIMARY...  \n",
              "7  CREATE TABLE `Team_Attributes` (\\n\\t`id`\\tINTE...  "
            ],
            "text/html": [
              "\n",
              "  <div id=\"df-4e5376fd-4144-49ca-a4b6-fd49429982eb\" class=\"colab-df-container\">\n",
              "    <div>\n",
              "<style scoped>\n",
              "    .dataframe tbody tr th:only-of-type {\n",
              "        vertical-align: middle;\n",
              "    }\n",
              "\n",
              "    .dataframe tbody tr th {\n",
              "        vertical-align: top;\n",
              "    }\n",
              "\n",
              "    .dataframe thead th {\n",
              "        text-align: right;\n",
              "    }\n",
              "</style>\n",
              "<table border=\"1\" class=\"dataframe\">\n",
              "  <thead>\n",
              "    <tr style=\"text-align: right;\">\n",
              "      <th></th>\n",
              "      <th>type</th>\n",
              "      <th>name</th>\n",
              "      <th>tbl_name</th>\n",
              "      <th>rootpage</th>\n",
              "      <th>sql</th>\n",
              "    </tr>\n",
              "  </thead>\n",
              "  <tbody>\n",
              "    <tr>\n",
              "      <th>0</th>\n",
              "      <td>table</td>\n",
              "      <td>sqlite_sequence</td>\n",
              "      <td>sqlite_sequence</td>\n",
              "      <td>4</td>\n",
              "      <td>CREATE TABLE sqlite_sequence(name,seq)</td>\n",
              "    </tr>\n",
              "    <tr>\n",
              "      <th>1</th>\n",
              "      <td>table</td>\n",
              "      <td>Player_Attributes</td>\n",
              "      <td>Player_Attributes</td>\n",
              "      <td>11</td>\n",
              "      <td>CREATE TABLE \"Player_Attributes\" (\\n\\t`id`\\tIN...</td>\n",
              "    </tr>\n",
              "    <tr>\n",
              "      <th>2</th>\n",
              "      <td>table</td>\n",
              "      <td>Player</td>\n",
              "      <td>Player</td>\n",
              "      <td>14</td>\n",
              "      <td>CREATE TABLE `Player` (\\n\\t`id`\\tINTEGER PRIMA...</td>\n",
              "    </tr>\n",
              "    <tr>\n",
              "      <th>3</th>\n",
              "      <td>table</td>\n",
              "      <td>Match</td>\n",
              "      <td>Match</td>\n",
              "      <td>18</td>\n",
              "      <td>CREATE TABLE `Match` (\\n\\t`id`\\tINTEGER PRIMAR...</td>\n",
              "    </tr>\n",
              "    <tr>\n",
              "      <th>4</th>\n",
              "      <td>table</td>\n",
              "      <td>League</td>\n",
              "      <td>League</td>\n",
              "      <td>24</td>\n",
              "      <td>CREATE TABLE `League` (\\n\\t`id`\\tINTEGER PRIMA...</td>\n",
              "    </tr>\n",
              "    <tr>\n",
              "      <th>5</th>\n",
              "      <td>table</td>\n",
              "      <td>Country</td>\n",
              "      <td>Country</td>\n",
              "      <td>26</td>\n",
              "      <td>CREATE TABLE `Country` (\\n\\t`id`\\tINTEGER PRIM...</td>\n",
              "    </tr>\n",
              "    <tr>\n",
              "      <th>6</th>\n",
              "      <td>table</td>\n",
              "      <td>Team</td>\n",
              "      <td>Team</td>\n",
              "      <td>29</td>\n",
              "      <td>CREATE TABLE \"Team\" (\\n\\t`id`\\tINTEGER PRIMARY...</td>\n",
              "    </tr>\n",
              "    <tr>\n",
              "      <th>7</th>\n",
              "      <td>table</td>\n",
              "      <td>Team_Attributes</td>\n",
              "      <td>Team_Attributes</td>\n",
              "      <td>2</td>\n",
              "      <td>CREATE TABLE `Team_Attributes` (\\n\\t`id`\\tINTE...</td>\n",
              "    </tr>\n",
              "  </tbody>\n",
              "</table>\n",
              "</div>\n",
              "    <div class=\"colab-df-buttons\">\n",
              "\n",
              "  <div class=\"colab-df-container\">\n",
              "    <button class=\"colab-df-convert\" onclick=\"convertToInteractive('df-4e5376fd-4144-49ca-a4b6-fd49429982eb')\"\n",
              "            title=\"Convert this dataframe to an interactive table.\"\n",
              "            style=\"display:none;\">\n",
              "\n",
              "  <svg xmlns=\"http://www.w3.org/2000/svg\" height=\"24px\" viewBox=\"0 -960 960 960\">\n",
              "    <path d=\"M120-120v-720h720v720H120Zm60-500h600v-160H180v160Zm220 220h160v-160H400v160Zm0 220h160v-160H400v160ZM180-400h160v-160H180v160Zm440 0h160v-160H620v160ZM180-180h160v-160H180v160Zm440 0h160v-160H620v160Z\"/>\n",
              "  </svg>\n",
              "    </button>\n",
              "\n",
              "  <style>\n",
              "    .colab-df-container {\n",
              "      display:flex;\n",
              "      gap: 12px;\n",
              "    }\n",
              "\n",
              "    .colab-df-convert {\n",
              "      background-color: #E8F0FE;\n",
              "      border: none;\n",
              "      border-radius: 50%;\n",
              "      cursor: pointer;\n",
              "      display: none;\n",
              "      fill: #1967D2;\n",
              "      height: 32px;\n",
              "      padding: 0 0 0 0;\n",
              "      width: 32px;\n",
              "    }\n",
              "\n",
              "    .colab-df-convert:hover {\n",
              "      background-color: #E2EBFA;\n",
              "      box-shadow: 0px 1px 2px rgba(60, 64, 67, 0.3), 0px 1px 3px 1px rgba(60, 64, 67, 0.15);\n",
              "      fill: #174EA6;\n",
              "    }\n",
              "\n",
              "    .colab-df-buttons div {\n",
              "      margin-bottom: 4px;\n",
              "    }\n",
              "\n",
              "    [theme=dark] .colab-df-convert {\n",
              "      background-color: #3B4455;\n",
              "      fill: #D2E3FC;\n",
              "    }\n",
              "\n",
              "    [theme=dark] .colab-df-convert:hover {\n",
              "      background-color: #434B5C;\n",
              "      box-shadow: 0px 1px 3px 1px rgba(0, 0, 0, 0.15);\n",
              "      filter: drop-shadow(0px 1px 2px rgba(0, 0, 0, 0.3));\n",
              "      fill: #FFFFFF;\n",
              "    }\n",
              "  </style>\n",
              "\n",
              "    <script>\n",
              "      const buttonEl =\n",
              "        document.querySelector('#df-4e5376fd-4144-49ca-a4b6-fd49429982eb button.colab-df-convert');\n",
              "      buttonEl.style.display =\n",
              "        google.colab.kernel.accessAllowed ? 'block' : 'none';\n",
              "\n",
              "      async function convertToInteractive(key) {\n",
              "        const element = document.querySelector('#df-4e5376fd-4144-49ca-a4b6-fd49429982eb');\n",
              "        const dataTable =\n",
              "          await google.colab.kernel.invokeFunction('convertToInteractive',\n",
              "                                                    [key], {});\n",
              "        if (!dataTable) return;\n",
              "\n",
              "        const docLinkHtml = 'Like what you see? Visit the ' +\n",
              "          '<a target=\"_blank\" href=https://colab.research.google.com/notebooks/data_table.ipynb>data table notebook</a>'\n",
              "          + ' to learn more about interactive tables.';\n",
              "        element.innerHTML = '';\n",
              "        dataTable['output_type'] = 'display_data';\n",
              "        await google.colab.output.renderOutput(dataTable, element);\n",
              "        const docLink = document.createElement('div');\n",
              "        docLink.innerHTML = docLinkHtml;\n",
              "        element.appendChild(docLink);\n",
              "      }\n",
              "    </script>\n",
              "  </div>\n",
              "\n",
              "\n",
              "<div id=\"df-58ad9a19-7676-4d73-aeb7-43e39e7672aa\">\n",
              "  <button class=\"colab-df-quickchart\" onclick=\"quickchart('df-58ad9a19-7676-4d73-aeb7-43e39e7672aa')\"\n",
              "            title=\"Suggest charts\"\n",
              "            style=\"display:none;\">\n",
              "\n",
              "<svg xmlns=\"http://www.w3.org/2000/svg\" height=\"24px\"viewBox=\"0 0 24 24\"\n",
              "     width=\"24px\">\n",
              "    <g>\n",
              "        <path d=\"M19 3H5c-1.1 0-2 .9-2 2v14c0 1.1.9 2 2 2h14c1.1 0 2-.9 2-2V5c0-1.1-.9-2-2-2zM9 17H7v-7h2v7zm4 0h-2V7h2v10zm4 0h-2v-4h2v4z\"/>\n",
              "    </g>\n",
              "</svg>\n",
              "  </button>\n",
              "\n",
              "<style>\n",
              "  .colab-df-quickchart {\n",
              "      --bg-color: #E8F0FE;\n",
              "      --fill-color: #1967D2;\n",
              "      --hover-bg-color: #E2EBFA;\n",
              "      --hover-fill-color: #174EA6;\n",
              "      --disabled-fill-color: #AAA;\n",
              "      --disabled-bg-color: #DDD;\n",
              "  }\n",
              "\n",
              "  [theme=dark] .colab-df-quickchart {\n",
              "      --bg-color: #3B4455;\n",
              "      --fill-color: #D2E3FC;\n",
              "      --hover-bg-color: #434B5C;\n",
              "      --hover-fill-color: #FFFFFF;\n",
              "      --disabled-bg-color: #3B4455;\n",
              "      --disabled-fill-color: #666;\n",
              "  }\n",
              "\n",
              "  .colab-df-quickchart {\n",
              "    background-color: var(--bg-color);\n",
              "    border: none;\n",
              "    border-radius: 50%;\n",
              "    cursor: pointer;\n",
              "    display: none;\n",
              "    fill: var(--fill-color);\n",
              "    height: 32px;\n",
              "    padding: 0;\n",
              "    width: 32px;\n",
              "  }\n",
              "\n",
              "  .colab-df-quickchart:hover {\n",
              "    background-color: var(--hover-bg-color);\n",
              "    box-shadow: 0 1px 2px rgba(60, 64, 67, 0.3), 0 1px 3px 1px rgba(60, 64, 67, 0.15);\n",
              "    fill: var(--button-hover-fill-color);\n",
              "  }\n",
              "\n",
              "  .colab-df-quickchart-complete:disabled,\n",
              "  .colab-df-quickchart-complete:disabled:hover {\n",
              "    background-color: var(--disabled-bg-color);\n",
              "    fill: var(--disabled-fill-color);\n",
              "    box-shadow: none;\n",
              "  }\n",
              "\n",
              "  .colab-df-spinner {\n",
              "    border: 2px solid var(--fill-color);\n",
              "    border-color: transparent;\n",
              "    border-bottom-color: var(--fill-color);\n",
              "    animation:\n",
              "      spin 1s steps(1) infinite;\n",
              "  }\n",
              "\n",
              "  @keyframes spin {\n",
              "    0% {\n",
              "      border-color: transparent;\n",
              "      border-bottom-color: var(--fill-color);\n",
              "      border-left-color: var(--fill-color);\n",
              "    }\n",
              "    20% {\n",
              "      border-color: transparent;\n",
              "      border-left-color: var(--fill-color);\n",
              "      border-top-color: var(--fill-color);\n",
              "    }\n",
              "    30% {\n",
              "      border-color: transparent;\n",
              "      border-left-color: var(--fill-color);\n",
              "      border-top-color: var(--fill-color);\n",
              "      border-right-color: var(--fill-color);\n",
              "    }\n",
              "    40% {\n",
              "      border-color: transparent;\n",
              "      border-right-color: var(--fill-color);\n",
              "      border-top-color: var(--fill-color);\n",
              "    }\n",
              "    60% {\n",
              "      border-color: transparent;\n",
              "      border-right-color: var(--fill-color);\n",
              "    }\n",
              "    80% {\n",
              "      border-color: transparent;\n",
              "      border-right-color: var(--fill-color);\n",
              "      border-bottom-color: var(--fill-color);\n",
              "    }\n",
              "    90% {\n",
              "      border-color: transparent;\n",
              "      border-bottom-color: var(--fill-color);\n",
              "    }\n",
              "  }\n",
              "</style>\n",
              "\n",
              "  <script>\n",
              "    async function quickchart(key) {\n",
              "      const quickchartButtonEl =\n",
              "        document.querySelector('#' + key + ' button');\n",
              "      quickchartButtonEl.disabled = true;  // To prevent multiple clicks.\n",
              "      quickchartButtonEl.classList.add('colab-df-spinner');\n",
              "      try {\n",
              "        const charts = await google.colab.kernel.invokeFunction(\n",
              "            'suggestCharts', [key], {});\n",
              "      } catch (error) {\n",
              "        console.error('Error during call to suggestCharts:', error);\n",
              "      }\n",
              "      quickchartButtonEl.classList.remove('colab-df-spinner');\n",
              "      quickchartButtonEl.classList.add('colab-df-quickchart-complete');\n",
              "    }\n",
              "    (() => {\n",
              "      let quickchartButtonEl =\n",
              "        document.querySelector('#df-58ad9a19-7676-4d73-aeb7-43e39e7672aa button');\n",
              "      quickchartButtonEl.style.display =\n",
              "        google.colab.kernel.accessAllowed ? 'block' : 'none';\n",
              "    })();\n",
              "  </script>\n",
              "</div>\n",
              "\n",
              "  <div id=\"id_bba9f8b9-87da-4382-8e39-45350d92a337\">\n",
              "    <style>\n",
              "      .colab-df-generate {\n",
              "        background-color: #E8F0FE;\n",
              "        border: none;\n",
              "        border-radius: 50%;\n",
              "        cursor: pointer;\n",
              "        display: none;\n",
              "        fill: #1967D2;\n",
              "        height: 32px;\n",
              "        padding: 0 0 0 0;\n",
              "        width: 32px;\n",
              "      }\n",
              "\n",
              "      .colab-df-generate:hover {\n",
              "        background-color: #E2EBFA;\n",
              "        box-shadow: 0px 1px 2px rgba(60, 64, 67, 0.3), 0px 1px 3px 1px rgba(60, 64, 67, 0.15);\n",
              "        fill: #174EA6;\n",
              "      }\n",
              "\n",
              "      [theme=dark] .colab-df-generate {\n",
              "        background-color: #3B4455;\n",
              "        fill: #D2E3FC;\n",
              "      }\n",
              "\n",
              "      [theme=dark] .colab-df-generate:hover {\n",
              "        background-color: #434B5C;\n",
              "        box-shadow: 0px 1px 3px 1px rgba(0, 0, 0, 0.15);\n",
              "        filter: drop-shadow(0px 1px 2px rgba(0, 0, 0, 0.3));\n",
              "        fill: #FFFFFF;\n",
              "      }\n",
              "    </style>\n",
              "    <button class=\"colab-df-generate\" onclick=\"generateWithVariable('tables')\"\n",
              "            title=\"Generate code using this dataframe.\"\n",
              "            style=\"display:none;\">\n",
              "\n",
              "  <svg xmlns=\"http://www.w3.org/2000/svg\" height=\"24px\"viewBox=\"0 0 24 24\"\n",
              "       width=\"24px\">\n",
              "    <path d=\"M7,19H8.4L18.45,9,17,7.55,7,17.6ZM5,21V16.75L18.45,3.32a2,2,0,0,1,2.83,0l1.4,1.43a1.91,1.91,0,0,1,.58,1.4,1.91,1.91,0,0,1-.58,1.4L9.25,21ZM18.45,9,17,7.55Zm-12,3A5.31,5.31,0,0,0,4.9,8.1,5.31,5.31,0,0,0,1,6.5,5.31,5.31,0,0,0,4.9,4.9,5.31,5.31,0,0,0,6.5,1,5.31,5.31,0,0,0,8.1,4.9,5.31,5.31,0,0,0,12,6.5,5.46,5.46,0,0,0,6.5,12Z\"/>\n",
              "  </svg>\n",
              "    </button>\n",
              "    <script>\n",
              "      (() => {\n",
              "      const buttonEl =\n",
              "        document.querySelector('#id_bba9f8b9-87da-4382-8e39-45350d92a337 button.colab-df-generate');\n",
              "      buttonEl.style.display =\n",
              "        google.colab.kernel.accessAllowed ? 'block' : 'none';\n",
              "\n",
              "      buttonEl.onclick = () => {\n",
              "        google.colab.notebook.generateWithVariable('tables');\n",
              "      }\n",
              "      })();\n",
              "    </script>\n",
              "  </div>\n",
              "\n",
              "    </div>\n",
              "  </div>\n"
            ],
            "application/vnd.google.colaboratory.intrinsic+json": {
              "type": "dataframe",
              "variable_name": "tables",
              "summary": "{\n  \"name\": \"tables\",\n  \"rows\": 8,\n  \"fields\": [\n    {\n      \"column\": \"type\",\n      \"properties\": {\n        \"dtype\": \"category\",\n        \"num_unique_values\": 1,\n        \"samples\": [\n          \"table\"\n        ],\n        \"semantic_type\": \"\",\n        \"description\": \"\"\n      }\n    },\n    {\n      \"column\": \"name\",\n      \"properties\": {\n        \"dtype\": \"string\",\n        \"num_unique_values\": 8,\n        \"samples\": [\n          \"Player_Attributes\"\n        ],\n        \"semantic_type\": \"\",\n        \"description\": \"\"\n      }\n    },\n    {\n      \"column\": \"tbl_name\",\n      \"properties\": {\n        \"dtype\": \"string\",\n        \"num_unique_values\": 8,\n        \"samples\": [\n          \"Player_Attributes\"\n        ],\n        \"semantic_type\": \"\",\n        \"description\": \"\"\n      }\n    },\n    {\n      \"column\": \"rootpage\",\n      \"properties\": {\n        \"dtype\": \"number\",\n        \"std\": 10,\n        \"min\": 2,\n        \"max\": 29,\n        \"num_unique_values\": 8,\n        \"samples\": [\n          11\n        ],\n        \"semantic_type\": \"\",\n        \"description\": \"\"\n      }\n    },\n    {\n      \"column\": \"sql\",\n      \"properties\": {\n        \"dtype\": \"string\",\n        \"num_unique_values\": 8,\n        \"samples\": [\n          \"CREATE TABLE \\\"Player_Attributes\\\" (\\n\\t`id`\\tINTEGER PRIMARY KEY AUTOINCREMENT,\\n\\t`player_fifa_api_id`\\tINTEGER,\\n\\t`player_api_id`\\tINTEGER,\\n\\t`date`\\tTEXT,\\n\\t`overall_rating`\\tINTEGER,\\n\\t`potential`\\tINTEGER,\\n\\t`preferred_foot`\\tTEXT,\\n\\t`attacking_work_rate`\\tTEXT,\\n\\t`defensive_work_rate`\\tTEXT,\\n\\t`crossing`\\tINTEGER,\\n\\t`finishing`\\tINTEGER,\\n\\t`heading_accuracy`\\tINTEGER,\\n\\t`short_passing`\\tINTEGER,\\n\\t`volleys`\\tINTEGER,\\n\\t`dribbling`\\tINTEGER,\\n\\t`curve`\\tINTEGER,\\n\\t`free_kick_accuracy`\\tINTEGER,\\n\\t`long_passing`\\tINTEGER,\\n\\t`ball_control`\\tINTEGER,\\n\\t`acceleration`\\tINTEGER,\\n\\t`sprint_speed`\\tINTEGER,\\n\\t`agility`\\tINTEGER,\\n\\t`reactions`\\tINTEGER,\\n\\t`balance`\\tINTEGER,\\n\\t`shot_power`\\tINTEGER,\\n\\t`jumping`\\tINTEGER,\\n\\t`stamina`\\tINTEGER,\\n\\t`strength`\\tINTEGER,\\n\\t`long_shots`\\tINTEGER,\\n\\t`aggression`\\tINTEGER,\\n\\t`interceptions`\\tINTEGER,\\n\\t`positioning`\\tINTEGER,\\n\\t`vision`\\tINTEGER,\\n\\t`penalties`\\tINTEGER,\\n\\t`marking`\\tINTEGER,\\n\\t`standing_tackle`\\tINTEGER,\\n\\t`sliding_tackle`\\tINTEGER,\\n\\t`gk_diving`\\tINTEGER,\\n\\t`gk_handling`\\tINTEGER,\\n\\t`gk_kicking`\\tINTEGER,\\n\\t`gk_positioning`\\tINTEGER,\\n\\t`gk_reflexes`\\tINTEGER,\\n\\tFOREIGN KEY(`player_fifa_api_id`) REFERENCES `Player`(`player_fifa_api_id`),\\n\\tFOREIGN KEY(`player_api_id`) REFERENCES `Player`(`player_api_id`)\\n)\"\n        ],\n        \"semantic_type\": \"\",\n        \"description\": \"\"\n      }\n    }\n  ]\n}"
            }
          },
          "metadata": {},
          "execution_count": 10
        }
      ]
    },
    {
      "cell_type": "markdown",
      "source": [
        "# iii. Para el dataset de fútbol responder:\n",
        "\n",
        "## 6. ¿Cuántos jugadores hay en la base de datos?"
      ],
      "metadata": {
        "id": "nlHURZriCaua"
      }
    },
    {
      "cell_type": "code",
      "source": [
        "player = pd.read_sql(\"SELECT * FROM Player\", conn)\n",
        "\n",
        "jugadores = player['player_api_id'].nunique()  # Contar los jugadores únicos por su ID\n",
        "print(\"En la base de datos hay\", jugadores, \"jugadores\")"
      ],
      "metadata": {
        "id": "cCBeQ8yXIx71",
        "outputId": "d7b2bee4-477d-4528-b96c-96f1a4f1e42d",
        "colab": {
          "base_uri": "https://localhost:8080/"
        }
      },
      "execution_count": 26,
      "outputs": [
        {
          "output_type": "stream",
          "name": "stdout",
          "text": [
            "En la base de datos hay 11060 jugadores\n"
          ]
        }
      ]
    },
    {
      "cell_type": "markdown",
      "source": [
        "## 7. ¿Cuáles son los 10 primeros jugadores en la tabla player?"
      ],
      "metadata": {
        "id": "_Ql0_Xy1Mkfa"
      }
    },
    {
      "cell_type": "code",
      "source": [
        "player = pd.read_sql(\"SELECT * FROM Player\", conn)\n",
        "\n",
        "primeros_10_nombres = player['player_name'].head(10)\n",
        "print(\"Los 10 primeros jugadores son:\")\n",
        "print(\"\\n\")\n",
        "print(primeros_10_nombres)"
      ],
      "metadata": {
        "id": "o7iHkAfNCPD0",
        "outputId": "ad7c2aa2-f3c4-4c74-987d-28e6ce21d0ab",
        "colab": {
          "base_uri": "https://localhost:8080/"
        }
      },
      "execution_count": 31,
      "outputs": [
        {
          "output_type": "stream",
          "name": "stdout",
          "text": [
            "Los 10 primeros jugadores son:\n",
            "\n",
            "\n",
            "0    Aaron Appindangoye\n",
            "1       Aaron Cresswell\n",
            "2           Aaron Doran\n",
            "3         Aaron Galindo\n",
            "4          Aaron Hughes\n",
            "5            Aaron Hunt\n",
            "6            Aaron Kuhl\n",
            "7          Aaron Lennon\n",
            "8          Aaron Lennox\n",
            "9         Aaron Meijers\n",
            "Name: player_name, dtype: object\n"
          ]
        }
      ]
    },
    {
      "cell_type": "markdown",
      "source": [
        "##8. ¿Cuántos países hay? ¿Cuántos jugadores hay en cada país?"
      ],
      "metadata": {
        "id": "v2m-skW0Mrm3"
      }
    },
    {
      "cell_type": "code",
      "source": [
        "country = pd.read_sql(\"SELECT * FROM country\", conn)\n",
        "\n",
        "paises = country['name'].nunique()\n",
        "print(\"\\n\")\n",
        "print(\"El número de países en la base de datos es de\", paises)\n",
        "\n",
        "print(\"\\nNo es posible obtener número de jugadores por país\")"
      ],
      "metadata": {
        "id": "ug7AB6N4CfM8",
        "outputId": "317ee074-4b67-428b-c87d-3d1bef8d8376",
        "colab": {
          "base_uri": "https://localhost:8080/"
        }
      },
      "execution_count": 68,
      "outputs": [
        {
          "output_type": "stream",
          "name": "stdout",
          "text": [
            "\n",
            "\n",
            "El número de países en la base de datos es de 11\n",
            "\n",
            "No es posible obtener número de jugadores por país\n"
          ]
        }
      ]
    },
    {
      "cell_type": "markdown",
      "source": [
        "##9. ¿Cuántas ligas hay?\n"
      ],
      "metadata": {
        "id": "d06qdARePUKM"
      }
    },
    {
      "cell_type": "code",
      "source": [
        "league = pd.read_sql(\"SELECT * FROM league\", conn)\n",
        "\n",
        "ligas = league['name'].nunique()\n",
        "print(\"\\n\")\n",
        "print(\"Hay\", ligas, \"ligas\")\n",
        "print(\"\\n\")\n",
        "print(league['name'])"
      ],
      "metadata": {
        "id": "0cBoiFzgIXDl",
        "outputId": "dddc567b-8590-4e7e-99d7-8df479065dac",
        "colab": {
          "base_uri": "https://localhost:8080/"
        }
      },
      "execution_count": 76,
      "outputs": [
        {
          "output_type": "stream",
          "name": "stdout",
          "text": [
            "\n",
            "\n",
            "Hay 11 ligas\n",
            "\n",
            "\n",
            "0       Belgium Jupiler League\n",
            "1       England Premier League\n",
            "2               France Ligue 1\n",
            "3        Germany 1. Bundesliga\n",
            "4                Italy Serie A\n",
            "5       Netherlands Eredivisie\n",
            "6           Poland Ekstraklasa\n",
            "7     Portugal Liga ZON Sagres\n",
            "8      Scotland Premier League\n",
            "9              Spain LIGA BBVA\n",
            "10    Switzerland Super League\n",
            "Name: name, dtype: object\n"
          ]
        }
      ]
    },
    {
      "cell_type": "markdown",
      "source": [
        "##10.  ¿Cuántas ligas hay por país?"
      ],
      "metadata": {
        "id": "vJsYSoDOPa7B"
      }
    },
    {
      "cell_type": "code",
      "source": [
        "# Unir las tablas 'League' y 'Country' usando 'country_id' y 'id' respectivamente\n",
        "ligas_pais = league.merge(country, left_on='country_id', right_on='id')\n",
        "\n",
        "print(\"El número de ligas por país es:\")\n",
        "\n",
        "# Contar el número de ligas por país\n",
        "ligas_por_pais = ligas_pais['name_y'].value_counts()\n",
        "\n",
        "print(\"\\n\")\n",
        "print(ligas_por_pais)"
      ],
      "metadata": {
        "id": "3wOEI8B7RP9m",
        "colab": {
          "base_uri": "https://localhost:8080/"
        },
        "outputId": "40c51f30-2b4b-427b-f1f3-3f9252c3048b"
      },
      "execution_count": 145,
      "outputs": [
        {
          "output_type": "stream",
          "name": "stdout",
          "text": [
            "El número de ligas por país es:\n",
            "\n",
            "\n",
            "Belgium        1\n",
            "England        1\n",
            "France         1\n",
            "Germany        1\n",
            "Italy          1\n",
            "Netherlands    1\n",
            "Poland         1\n",
            "Portugal       1\n",
            "Scotland       1\n",
            "Spain          1\n",
            "Switzerland    1\n",
            "Name: name_y, dtype: int64\n"
          ]
        }
      ]
    }
  ]
}